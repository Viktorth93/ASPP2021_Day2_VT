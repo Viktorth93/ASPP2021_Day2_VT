{
 "cells": [
  {
   "cell_type": "markdown",
   "metadata": {},
   "source": [
    "# Ex - GroupBy"
   ]
  },
  {
   "cell_type": "markdown",
   "metadata": {},
   "source": [
    "### Introduction:\n",
    "\n",
    "GroupBy can be summarizes as Split-Apply-Combine.\n",
    "\n",
    "Special thanks to: https://github.com/justmarkham for sharing the dataset and materials.\n",
    "\n",
    "Check out this [Diagram](http://i.imgur.com/yjNkiwL.png)  \n",
    "### Step 1. Import the necessary libraries"
   ]
  },
  {
   "cell_type": "code",
   "execution_count": 4,
   "metadata": {},
   "outputs": [],
   "source": [
    "import pandas as pd"
   ]
  },
  {
   "cell_type": "markdown",
   "metadata": {},
   "source": [
    "### Step 2. Import the dataset from this [address](https://raw.githubusercontent.com/justmarkham/DAT8/master/data/drinks.csv). "
   ]
  },
  {
   "cell_type": "code",
   "execution_count": 5,
   "metadata": {},
   "outputs": [],
   "source": []
  },
  {
   "cell_type": "markdown",
   "metadata": {},
   "source": [
    "### Step 3. Assign it to a variable called drinks."
   ]
  },
  {
   "cell_type": "code",
   "execution_count": 9,
   "metadata": {},
   "outputs": [
    {
     "name": "stdout",
     "output_type": "stream",
     "text": [
      "['country', 'beer_servings', 'spirit_servings', 'wine_servings', 'total_litres_of_pure_alcohol', 'continent']\n"
     ]
    },
    {
     "data": {
      "text/html": [
       "<div>\n",
       "<style scoped>\n",
       "    .dataframe tbody tr th:only-of-type {\n",
       "        vertical-align: middle;\n",
       "    }\n",
       "\n",
       "    .dataframe tbody tr th {\n",
       "        vertical-align: top;\n",
       "    }\n",
       "\n",
       "    .dataframe thead th {\n",
       "        text-align: right;\n",
       "    }\n",
       "</style>\n",
       "<table border=\"1\" class=\"dataframe\">\n",
       "  <thead>\n",
       "    <tr style=\"text-align: right;\">\n",
       "      <th></th>\n",
       "      <th>country</th>\n",
       "      <th>beer_servings</th>\n",
       "      <th>spirit_servings</th>\n",
       "      <th>wine_servings</th>\n",
       "      <th>total_litres_of_pure_alcohol</th>\n",
       "      <th>continent</th>\n",
       "    </tr>\n",
       "  </thead>\n",
       "  <tbody>\n",
       "    <tr>\n",
       "      <th>0</th>\n",
       "      <td>Afghanistan</td>\n",
       "      <td>0</td>\n",
       "      <td>0</td>\n",
       "      <td>0</td>\n",
       "      <td>0.0</td>\n",
       "      <td>AS</td>\n",
       "    </tr>\n",
       "    <tr>\n",
       "      <th>1</th>\n",
       "      <td>Albania</td>\n",
       "      <td>89</td>\n",
       "      <td>132</td>\n",
       "      <td>54</td>\n",
       "      <td>4.9</td>\n",
       "      <td>EU</td>\n",
       "    </tr>\n",
       "  </tbody>\n",
       "</table>\n",
       "</div>"
      ],
      "text/plain": [
       "       country  beer_servings  spirit_servings  wine_servings  \\\n",
       "0  Afghanistan              0                0              0   \n",
       "1      Albania             89              132             54   \n",
       "\n",
       "   total_litres_of_pure_alcohol continent  \n",
       "0                           0.0        AS  \n",
       "1                           4.9        EU  "
      ]
     },
     "execution_count": 9,
     "metadata": {},
     "output_type": "execute_result"
    }
   ],
   "source": [
    "drinks = pd.read_csv(\"https://raw.githubusercontent.com/justmarkham/DAT8/master/data/drinks.csv\")\n",
    "print(list(drinks.columns))\n",
    "drinks.head(2)"
   ]
  },
  {
   "cell_type": "markdown",
   "metadata": {},
   "source": [
    "### Step 4. Which continent drinks more beer on average?"
   ]
  },
  {
   "cell_type": "code",
   "execution_count": 30,
   "metadata": {},
   "outputs": [
    {
     "name": "stdout",
     "output_type": "stream",
     "text": [
      "continent\n",
      "AF     61.471698\n",
      "AS     37.045455\n",
      "EU    193.777778\n",
      "OC     89.687500\n",
      "SA    175.083333\n",
      "Name: beer_servings, dtype: float64\n",
      "The continent that drinks the most beer is:  EU\n"
     ]
    }
   ],
   "source": [
    "print(drinks.groupby([\"continent\"]).mean().loc[:,\"beer_servings\"])\n",
    "print(\"The continent that drinks the most beer is: \",drinks.groupby([\"continent\"]).mean().iloc[:,0].idxmax())"
   ]
  },
  {
   "cell_type": "markdown",
   "metadata": {},
   "source": [
    "### Step 5. For each continent print the statistics for wine consumption."
   ]
  },
  {
   "cell_type": "code",
   "execution_count": 41,
   "metadata": {},
   "outputs": [
    {
     "name": "stdout",
     "output_type": "stream",
     "text": [
      "Total wine servings:\n",
      "continent\n",
      "AF     862\n",
      "AS     399\n",
      "EU    6400\n",
      "OC     570\n",
      "SA     749\n",
      "Name: wine_servings, dtype: int64\n"
     ]
    }
   ],
   "source": [
    "print(\"Total wine servings:\")\n",
    "print(drinks.groupby([\"continent\"]).sum().loc[:,\"wine_servings\"])"
   ]
  },
  {
   "cell_type": "markdown",
   "metadata": {},
   "source": [
    "### Step 6. Print the mean alcoohol consumption per continent for every column"
   ]
  },
  {
   "cell_type": "code",
   "execution_count": 56,
   "metadata": {},
   "outputs": [
    {
     "name": "stdout",
     "output_type": "stream",
     "text": [
      "Mean per continent:\n",
      "beer_servings                   111.413153\n",
      "spirit_servings                  76.584717\n",
      "wine_servings                    53.119244\n",
      "total_litres_of_pure_alcohol      4.697073\n",
      "dtype: float64\n"
     ]
    }
   ],
   "source": [
    "print(\"Mean per continent:\")\n",
    "print(drinks.groupby([\"continent\"]).mean().mean(0))"
   ]
  },
  {
   "cell_type": "markdown",
   "metadata": {},
   "source": [
    "### Step 7. Print the median alcoohol consumption per continent for every column"
   ]
  },
  {
   "cell_type": "code",
   "execution_count": 72,
   "metadata": {},
   "outputs": [
    {
     "name": "stdout",
     "output_type": "stream",
     "text": [
      "Median per continent:\n",
      "beer_servings                   89.687500\n",
      "spirit_servings                 60.840909\n",
      "wine_servings                   35.625000\n",
      "total_litres_of_pure_alcohol     3.381250\n",
      "dtype: float64\n"
     ]
    }
   ],
   "source": [
    "print(\"Median per continent:\")\n",
    "print(drinks.groupby([\"continent\"]).mean().median(0))"
   ]
  },
  {
   "cell_type": "markdown",
   "metadata": {},
   "source": [
    "### Step 8. Print the mean, min and max values for spirit consumption.\n",
    "#### This time output a DataFrame"
   ]
  },
  {
   "cell_type": "code",
   "execution_count": 118,
   "metadata": {},
   "outputs": [
    {
     "name": "stdout",
     "output_type": "stream",
     "text": [
      "    max_spirit_servings  min_spirit_servings  mean_spirit_servings\n",
      "AF                  152                    0             16.339623\n",
      "AS                  326                    0             60.840909\n",
      "EU                  373                    0            132.555556\n",
      "OC                  254                    0             58.437500\n",
      "SA                  302                   25            114.750000\n"
     ]
    }
   ],
   "source": [
    "maxcons = list(drinks.groupby([\"continent\"]).max().loc[:,\"spirit_servings\"])\n",
    "#maxcons = pd.Series.to_frame((drinks.groupby([\"continent\"]).max().loc[:,\"spirit_servings\"])).rename(columns={\"spirit_servings\":\"max_spirit_servings\"})\n",
    "\n",
    "mincons = list(drinks.groupby([\"continent\"]).min().loc[:,\"spirit_servings\"])\n",
    "#mincons = pd.Series.to_frame(drinks.groupby([\"continent\"]).min().loc[:,\"spirit_servings\"]).rename(columns={\"spirit_servings\":\"min_spirit_servings\"})\n",
    "\n",
    "meancons = list(drinks.groupby([\"continent\"]).mean().loc[:,\"spirit_servings\"])\n",
    "#meancons = pd.Series.to_frame(drinks.groupby([\"continent\"]).mean().loc[:,\"spirit_servings\"]).rename(columns={\"spirit_servings\":\"mean_spirit_servings\"})\n",
    "\n",
    "continents = list(drinks.groupby([\"continent\"]).mean().index)\n",
    "\n",
    "newDF = pd.DataFrame({'max_spirit_servings': maxcons,\n",
    "                     'min_spirit_servings': mincons,\n",
    "                     'mean_spirit_servings': meancons},\n",
    "                    index=continents)\n",
    "\n",
    "print(newDF)\n"
   ]
  },
  {
   "cell_type": "code",
   "execution_count": null,
   "metadata": {},
   "outputs": [],
   "source": []
  }
 ],
 "metadata": {
  "kernelspec": {
   "display_name": "Python 3",
   "language": "python",
   "name": "python3"
  },
  "language_info": {
   "codemirror_mode": {
    "name": "ipython",
    "version": 3
   },
   "file_extension": ".py",
   "mimetype": "text/x-python",
   "name": "python",
   "nbconvert_exporter": "python",
   "pygments_lexer": "ipython3",
   "version": "3.7.0"
  }
 },
 "nbformat": 4,
 "nbformat_minor": 1
}
